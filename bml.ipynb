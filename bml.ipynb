{
  "nbformat": 4,
  "nbformat_minor": 0,
  "metadata": {
    "colab": {
      "provenance": [],
      "toc_visible": true,
      "machine_shape": "hm",
      "gpuType": "V100"
    },
    "kernelspec": {
      "name": "python3",
      "display_name": "Python 3"
    },
    "language_info": {
      "name": "python"
    },
    "accelerator": "GPU"
  },
  "cells": [
    {
      "cell_type": "markdown",
      "source": [
        "# data preparation"
      ],
      "metadata": {
        "id": "BeGPxk6Xo0kA"
      }
    },
    {
      "cell_type": "markdown",
      "source": [
        "## BML"
      ],
      "metadata": {
        "id": "GF9vCASDo74a"
      }
    },
    {
      "cell_type": "code",
      "execution_count": 1,
      "metadata": {
        "id": "eYVs9wi_qLZA",
        "colab": {
          "base_uri": "https://localhost:8080/"
        },
        "outputId": "cb1223c4-afce-4cb3-ba22-cc3ed604379c"
      },
      "outputs": [
        {
          "output_type": "stream",
          "name": "stdout",
          "text": [
            "Mounted at /content/drive\n"
          ]
        }
      ],
      "source": [
        "from google.colab import drive\n",
        "import zipfile\n",
        "import os\n",
        "\n",
        "drive.mount('/content/drive')\n",
        "\n",
        "# !apt-get install unrar\n",
        "\n",
        "# !unrar x \"/content/drive/My Drive/Copy of Phase3.rar\" \"/content/drive/My Drive/aicv/\""
      ]
    },
    {
      "cell_type": "code",
      "source": [
        "pat_list = os.listdir('/content/drive/My Drive/aicv/Phase3')\n",
        "pat_list = sorted(pat_list)\n",
        "pat_count = len(pat_list)\n",
        "print(pat_count)"
      ],
      "metadata": {
        "colab": {
          "base_uri": "https://localhost:8080/"
        },
        "id": "3_1qo9H01_sQ",
        "outputId": "0581f8dc-050d-4619-fe85-843bcd89e91b"
      },
      "execution_count": 2,
      "outputs": [
        {
          "output_type": "stream",
          "name": "stdout",
          "text": [
            "102\n"
          ]
        }
      ]
    },
    {
      "cell_type": "code",
      "source": [
        "import shutil\n",
        "\n",
        "def split(src, dest):\n",
        "    train_f = os.path.join(dest, \"train\")\n",
        "    val_f = os.path.join(dest, \"validate\")\n",
        "    test_f = os.path.join(dest, \"test\")\n",
        "\n",
        "    if os.path.exists(train_f):\n",
        "        pass\n",
        "    else:\n",
        "        os.mkdir(train_f)\n",
        "\n",
        "    if os.path.exists(val_f):\n",
        "        pass\n",
        "    else:\n",
        "        os.mkdir(val_f)\n",
        "\n",
        "\n",
        "    if os.path.exists(test_f):\n",
        "        pass\n",
        "    else:\n",
        "        os.mkdir(test_f)\n",
        "\n",
        "    pat_list = os.listdir(src)\n",
        "    pat_list = sorted(pat_list)\n",
        "    pat_count = len(pat_list)\n",
        "\n",
        "    pat_list_has_bml_count = 0\n",
        "    pat_list_has_bml = []\n",
        "    for pat in pat_list:\n",
        "      if os.path.exists(os.path.join(src, pat, 'v00/meta/bml_masks')):\n",
        "        pat_list_has_bml_count += 1\n",
        "        pat_list_has_bml.append(pat)\n",
        "    print(len( pat_list), pat_count)\n",
        "    print(len(pat_list_has_bml), pat_list_has_bml_count)\n",
        "\n",
        "\n",
        "    train_len = int(pat_list_has_bml_count * 0.7) # 70  0-70 / 18\n",
        "    val_len = int(pat_list_has_bml_count * 0.15) # 15   71-85 / 3\n",
        "\n",
        "    pat_index = 0\n",
        "    for pat in pat_list_has_bml:\n",
        "      mask_src_folder = os.path.join(src, pat, 'v00/meta/bml_masks')\n",
        "      bone_src_folder = os.path.join(src, pat, 'v00/meta/images')\n",
        "      if not os.path.exists(mask_src_folder):\n",
        "        continue\n",
        "\n",
        "      target = test_f\n",
        "      print(pat_index, pat)\n",
        "      if pat_index < train_len:\n",
        "          target = train_f\n",
        "      elif pat_index < train_len + val_len:\n",
        "          target = val_f\n",
        "\n",
        "      for fname in os.listdir(mask_src_folder):\n",
        "          # copying the files to the\n",
        "          # destination directory\n",
        "          shutil.copy2(os.path.join(mask_src_folder, fname), target)\n",
        "          # fanme -->9048789_v00_4_mask.bmp\n",
        "          # strop--->9048789_v00_4.bmp\n",
        "          strip_file = fname.replace(\"_mask.bmp\", \".bmp\")\n",
        "          shutil.copy2(os.path.join(bone_src_folder, strip_file), target)\n",
        "\n",
        "\n",
        "      pat_index += 1\n",
        "\n",
        "print(\"start\")\n",
        "split(r'/content/drive/My Drive/aicv/Phase3', r'/content/drive/My Drive/aicv/bml_data_split')\n",
        "print(\"end\")\n"
      ],
      "metadata": {
        "id": "uU-GA-JJw5U0"
      },
      "execution_count": null,
      "outputs": []
    },
    {
      "cell_type": "markdown",
      "source": [
        "## dataset"
      ],
      "metadata": {
        "id": "mrhJG7vSeGGw"
      }
    },
    {
      "cell_type": "code",
      "source": [
        "import os\n",
        "import cv2\n",
        "import numpy as np\n",
        "import torch\n",
        "from torch.utils.data import Dataset"
      ],
      "metadata": {
        "id": "utNeh_sapDpw"
      },
      "execution_count": 2,
      "outputs": []
    },
    {
      "cell_type": "code",
      "source": [
        "from easydict import EasyDict\n",
        "\n",
        "cfg = EasyDict()\n",
        "cfg.batch_size = 4\n",
        "cfg.epoch = 1000\n",
        "cfg.learning_rate = 1e-4\n",
        "cfg.momentum = 0.9\n",
        "cfg.weight_decay = 1e-4\n",
        "cfg.patience = 100\n",
        "cfg.inference_threshold = 0.75\n",
        "\n",
        "cfg.transunet = EasyDict()\n",
        "cfg.transunet.img_dim = 448\n",
        "cfg.transunet.in_channels = 3\n",
        "cfg.transunet.out_channels = 128\n",
        "cfg.transunet.head_num = 4\n",
        "cfg.transunet.mlp_dim = 448\n",
        "cfg.transunet.block_num = 8\n",
        "cfg.transunet.patch_dim = 16\n",
        "cfg.transunet.class_num = 1"
      ],
      "metadata": {
        "id": "smTaMYDHeWwS"
      },
      "execution_count": 3,
      "outputs": []
    },
    {
      "cell_type": "code",
      "source": [
        "class DentalDataset(Dataset):\n",
        "    output_size = cfg.transunet.img_dim\n",
        "\n",
        "    def __init__(self, path, transform):\n",
        "        super().__init__()\n",
        "\n",
        "        self.transform = transform\n",
        "        self.img_paths = []\n",
        "        self.mask_paths = []\n",
        "        for p in os.listdir(path):\n",
        "            name_array = p.split('.')[0].split('_')\n",
        "            if len(name_array) == 4 : #mask\n",
        "              self.mask_paths.append(os.path.join(path, p))\n",
        "            else:\n",
        "              self.img_paths.append(os.path.join(path, p))\n",
        "\n",
        "    def __getitem__(self, idx):\n",
        "        if torch.is_tensor(idx):\n",
        "            idx = idx.tolist()\n",
        "\n",
        "        img = self.img_paths[idx]\n",
        "        mask = self.mask_paths[idx]\n",
        "\n",
        "        img = cv2.imread(img)\n",
        "        #print(img)\n",
        "        img = cv2.cvtColor(img, cv2.COLOR_BGR2RGB)\n",
        "        img = cv2.resize(img, (self.output_size, self.output_size))\n",
        "\n",
        "        mask = cv2.imread(mask, 0)\n",
        "        mask = cv2.resize(mask, (self.output_size, self.output_size), interpolation=cv2.INTER_NEAREST)\n",
        "        mask = np.expand_dims(mask, axis=-1)\n",
        "\n",
        "        sample = {'img': img, 'mask': mask}\n",
        "\n",
        "        if self.transform:\n",
        "            sample = self.transform(sample)\n",
        "\n",
        "        img, mask = sample['img'], sample['mask']\n",
        "\n",
        "        img = img / 255.\n",
        "        img = img.transpose((2, 0, 1))\n",
        "        img = torch.from_numpy(img.astype('float32'))\n",
        "\n",
        "        mask = mask / 255.\n",
        "        mask = mask.transpose((2, 0, 1))\n",
        "        mask = torch.from_numpy(mask.astype('float32'))\n",
        "\n",
        "        return {'img': img, 'mask': mask}\n",
        "\n",
        "    def __len__(self):\n",
        "        return len(self.img_paths)"
      ],
      "metadata": {
        "id": "Sd9-PrDpeZA2"
      },
      "execution_count": 4,
      "outputs": []
    },
    {
      "cell_type": "code",
      "source": [
        "md = DentalDataset('/content/drive/My Drive/aicv/bml_data_split/train',\n",
        "                    None)\n",
        "\n",
        "for sample in md:\n",
        "    print(sample['img'].shape)\n",
        "    print(sample['mask'].shape)\n",
        "\n",
        "    break"
      ],
      "metadata": {
        "colab": {
          "base_uri": "https://localhost:8080/"
        },
        "id": "wmPhu5tnQH-y",
        "outputId": "bb0c9049-8cbc-48a1-bb2a-fbbf8221e86b"
      },
      "execution_count": 5,
      "outputs": [
        {
          "output_type": "stream",
          "name": "stdout",
          "text": [
            "torch.Size([3, 448, 448])\n",
            "torch.Size([1, 448, 448])\n"
          ]
        }
      ]
    },
    {
      "cell_type": "markdown",
      "source": [
        "# train"
      ],
      "metadata": {
        "id": "VZ2CZLBMiExC"
      }
    },
    {
      "cell_type": "code",
      "source": [
        "from tqdm import tqdm\n",
        "import torch\n",
        "from torchvision import transforms\n",
        "from torch.utils.data import DataLoader\n",
        "\n",
        "# Additional Scripts\n",
        "import sys\n",
        "sys.path.append('/content/drive/My Drive/aicv/bml_code')"
      ],
      "metadata": {
        "id": "HMsSeLrjl0PJ"
      },
      "execution_count": 6,
      "outputs": []
    },
    {
      "cell_type": "code",
      "source": [
        "! pip install einops"
      ],
      "metadata": {
        "colab": {
          "base_uri": "https://localhost:8080/"
        },
        "id": "qg1aygWOmW6P",
        "outputId": "9da2a489-718d-42ab-a73b-7e58fee2dad2"
      },
      "execution_count": 8,
      "outputs": [
        {
          "output_type": "stream",
          "name": "stdout",
          "text": [
            "Collecting einops\n",
            "  Downloading einops-0.7.0-py3-none-any.whl (44 kB)\n",
            "\u001b[?25l     \u001b[90m━━━━━━━━━━━━━━━━━━━━━━━━━━━━━━━━━━━━━━━━\u001b[0m \u001b[32m0.0/44.6 kB\u001b[0m \u001b[31m?\u001b[0m eta \u001b[36m-:--:--\u001b[0m\r\u001b[2K     \u001b[90m━━━━━━━━━━━━━━━━━━━━━━━━━━━━━━━━━━━━━━━━\u001b[0m \u001b[32m44.6/44.6 kB\u001b[0m \u001b[31m1.9 MB/s\u001b[0m eta \u001b[36m0:00:00\u001b[0m\n",
            "\u001b[?25hInstalling collected packages: einops\n",
            "Successfully installed einops-0.7.0\n"
          ]
        }
      ]
    },
    {
      "cell_type": "code",
      "source": [
        "from torch.optim import SGD\n",
        "\n",
        "# Additional Scripts\n",
        "from transunet import TransUNet\n",
        "from utils import dice_loss\n",
        "\n",
        "class TransUNetSeg:\n",
        "    def __init__(self, device):\n",
        "        self.device = device\n",
        "        self.model = TransUNet(img_dim=cfg.transunet.img_dim,\n",
        "                               in_channels=cfg.transunet.in_channels,\n",
        "                               out_channels=cfg.transunet.out_channels,\n",
        "                               head_num=cfg.transunet.head_num,\n",
        "                               mlp_dim=cfg.transunet.mlp_dim,\n",
        "                               block_num=cfg.transunet.block_num,\n",
        "                               patch_dim=cfg.transunet.patch_dim,\n",
        "                               class_num=cfg.transunet.class_num).to(self.device)\n",
        "\n",
        "        self.criterion = dice_loss\n",
        "        self.optimizer = SGD(self.model.parameters(), lr=cfg.learning_rate,\n",
        "                             momentum=cfg.momentum, weight_decay=cfg.weight_decay)\n",
        "\n",
        "    def load_model(self, path):\n",
        "        ckpt = torch.load(path)\n",
        "        self.model.load_state_dict(ckpt['model_state_dict'])\n",
        "        self.optimizer.load_state_dict(ckpt['optimizer_state_dict'])\n",
        "\n",
        "        self.model.eval()\n",
        "\n",
        "    def train_step(self, **params):\n",
        "        self.model.train()\n",
        "\n",
        "        self.optimizer.zero_grad()\n",
        "        pred_mask = self.model(params['img'])\n",
        "        loss = self.criterion(pred_mask, params['mask'])\n",
        "        loss.backward()\n",
        "        self.optimizer.step()\n",
        "\n",
        "        return loss.item(), pred_mask\n",
        "\n",
        "    def test_step(self, **params):\n",
        "        self.model.eval()\n",
        "\n",
        "        pred_mask = self.model(params['img'])\n",
        "        loss = self.criterion(pred_mask, params['mask'])\n",
        "\n",
        "        return loss.item(), pred_mask"
      ],
      "metadata": {
        "id": "JBylB2tElgId"
      },
      "execution_count": 9,
      "outputs": []
    },
    {
      "cell_type": "code",
      "source": [
        "from utils import EpochCallback\n",
        "import transforms as T\n",
        "\n",
        "class TrainTestPipe:\n",
        "    def __init__(self, train_path, test_path, model_path, device):\n",
        "        self.device = device\n",
        "        self.model_path = model_path\n",
        "\n",
        "        self.train_loader = self.__load_dataset(train_path, train=True)\n",
        "        self.test_loader = self.__load_dataset(test_path)\n",
        "\n",
        "        self.transunet = TransUNetSeg(self.device)\n",
        "\n",
        "    def __load_dataset(self, path, train=False):\n",
        "        shuffle = False\n",
        "        transform = False\n",
        "\n",
        "        if train:\n",
        "            shuffle = True\n",
        "            transform = transforms.Compose([T.RandomAugmentation(2)])\n",
        "\n",
        "        set = DentalDataset(path, transform)\n",
        "        loader = DataLoader(set, batch_size=cfg.batch_size, shuffle=shuffle)\n",
        "\n",
        "        return loader\n",
        "\n",
        "    def __loop(self, loader, step_func, t):\n",
        "        total_loss = 0\n",
        "\n",
        "        for step, data in enumerate(loader):\n",
        "            img, mask = data['img'], data['mask']\n",
        "            img = img.to(self.device)\n",
        "            mask = mask.to(self.device)\n",
        "\n",
        "            loss, cls_pred = step_func(img=img, mask=mask)\n",
        "\n",
        "            total_loss += loss\n",
        "\n",
        "            t.update()\n",
        "\n",
        "        return total_loss\n",
        "\n",
        "    def train(self):\n",
        "        callback = EpochCallback(self.model_path, cfg.epoch,\n",
        "                                 self.transunet.model, self.transunet.optimizer, 'test_loss', cfg.patience)\n",
        "\n",
        "        for epoch in range(cfg.epoch):\n",
        "            with tqdm(total=len(self.train_loader) + len(self.test_loader)) as t:\n",
        "                train_loss = self.__loop(self.train_loader, self.transunet.train_step, t)\n",
        "\n",
        "                test_loss = self.__loop(self.test_loader, self.transunet.test_step, t)\n",
        "\n",
        "            callback.epoch_end(epoch + 1,\n",
        "                               {'loss': train_loss / len(self.train_loader),\n",
        "                                'test_loss': test_loss / len(self.test_loader)})\n",
        "\n",
        "            if callback.end_training:\n",
        "                break"
      ],
      "metadata": {
        "id": "x6SMy93wiHGi"
      },
      "execution_count": 10,
      "outputs": []
    },
    {
      "cell_type": "code",
      "source": [
        "import sys\n",
        "import torch\n",
        "import argparse\n",
        "\n",
        "# Additional Scripts\n",
        "from inference import SegInference\n",
        "\n",
        "import sys\n",
        "\n",
        "sys.argv = ['placeholder', '--mode', 'train',\n",
        "            '--model_path', '/content/drive/My Drive/aicv/bml_code/model1.pth',\n",
        "            '--train_path', '/content/drive/My Drive/aicv/bml_data_split/train',\n",
        "            '--test_path', '/content/drive/My Drive/aicv/bml_data_split/test']\n",
        "\n",
        "\n",
        "\n",
        "def main_pipeline(parser):\n",
        "    device = 'cpu:0'\n",
        "    if torch.cuda.is_available():\n",
        "        device = 'cuda:0'\n",
        "\n",
        "    if parser.mode == 'train':\n",
        "        ttp = TrainTestPipe(train_path=parser.train_path,\n",
        "                            test_path=parser.test_path,\n",
        "                            model_path=parser.model_path,\n",
        "                            device=device)\n",
        "\n",
        "        ttp.train()\n",
        "\n",
        "    elif parser.mode == 'inference':\n",
        "        inf = SegInference(model_path=parser.model_path,\n",
        "                           device=device)\n",
        "\n",
        "        _ = inf.infer(parser.image_path)\n",
        "\n",
        "\n",
        "if __name__ == '__main__':\n",
        "\n",
        "  parser = argparse.ArgumentParser()\n",
        "  parser.add_argument('--mode', type=str, required=True, choices=['train', 'inference'])\n",
        "  parser.add_argument('--model_path', required=True, type=str, default=None)\n",
        "\n",
        "  parser.add_argument('--train_path', required='train' in sys.argv,  type=str, default=None)\n",
        "  parser.add_argument('--test_path', required='train' in sys.argv, type=str, default=None)\n",
        "\n",
        "  parser.add_argument('--image_path', required='infer' in sys.argv, type=str, default=None)\n",
        "  args = parser.parse_args()\n",
        "\n",
        "  main_pipeline(args)\n"
      ],
      "metadata": {
        "colab": {
          "base_uri": "https://localhost:8080/",
          "height": 1000
        },
        "id": "kL6R0aD9ml-a",
        "outputId": "ebe51ffd-3794-48e5-90d1-7bb3fdfd024f"
      },
      "execution_count": 17,
      "outputs": [
        {
          "output_type": "stream",
          "name": "stderr",
          "text": [
            "100%|██████████| 101/101 [00:25<00:00,  4.01it/s]\n"
          ]
        },
        {
          "output_type": "stream",
          "name": "stdout",
          "text": [
            "Epoch 1/1000 - loss: 0.9792 test_loss: 0.9894 \n",
            "test_loss decreased from inf to 0.9894\n",
            "Model saved to /content/drive/My Drive/aicv/bml_code/model1.pth\n"
          ]
        },
        {
          "output_type": "stream",
          "name": "stderr",
          "text": [
            "100%|██████████| 101/101 [00:25<00:00,  3.98it/s]\n"
          ]
        },
        {
          "output_type": "stream",
          "name": "stdout",
          "text": [
            "Epoch 2/1000 - loss: 0.9785 test_loss: 0.9887 \n",
            "test_loss decreased from 0.9894 to 0.9887\n",
            "Model saved to /content/drive/My Drive/aicv/bml_code/model1.pth\n"
          ]
        },
        {
          "output_type": "stream",
          "name": "stderr",
          "text": [
            "100%|██████████| 101/101 [00:25<00:00,  3.94it/s]\n"
          ]
        },
        {
          "output_type": "stream",
          "name": "stdout",
          "text": [
            "Epoch 3/1000 - loss: 0.9779 test_loss: 0.9885 \n",
            "test_loss decreased from 0.9887 to 0.9885\n",
            "Model saved to /content/drive/My Drive/aicv/bml_code/model1.pth\n"
          ]
        },
        {
          "output_type": "stream",
          "name": "stderr",
          "text": [
            "100%|██████████| 101/101 [00:25<00:00,  3.97it/s]\n"
          ]
        },
        {
          "output_type": "stream",
          "name": "stdout",
          "text": [
            "Epoch 4/1000 - loss: 0.9773 test_loss: 0.9881 \n",
            "test_loss decreased from 0.9885 to 0.9881\n",
            "Model saved to /content/drive/My Drive/aicv/bml_code/model1.pth\n"
          ]
        },
        {
          "output_type": "stream",
          "name": "stderr",
          "text": [
            "100%|██████████| 101/101 [00:25<00:00,  3.94it/s]\n"
          ]
        },
        {
          "output_type": "stream",
          "name": "stdout",
          "text": [
            "Epoch 5/1000 - loss: 0.9767 test_loss: 0.9881 \n",
            "test_loss decreased from 0.9881 to 0.9881\n",
            "Model saved to /content/drive/My Drive/aicv/bml_code/model1.pth\n"
          ]
        },
        {
          "output_type": "stream",
          "name": "stderr",
          "text": [
            "100%|██████████| 101/101 [00:25<00:00,  3.95it/s]\n"
          ]
        },
        {
          "output_type": "stream",
          "name": "stdout",
          "text": [
            "Epoch 6/1000 - loss: 0.9766 test_loss: 0.9879 \n",
            "test_loss decreased from 0.9881 to 0.9879\n",
            "Model saved to /content/drive/My Drive/aicv/bml_code/model1.pth\n"
          ]
        },
        {
          "output_type": "stream",
          "name": "stderr",
          "text": [
            "100%|██████████| 101/101 [00:25<00:00,  3.96it/s]\n"
          ]
        },
        {
          "output_type": "stream",
          "name": "stdout",
          "text": [
            "Epoch 7/1000 - loss: 0.9762 test_loss: 0.9876 \n",
            "test_loss decreased from 0.9879 to 0.9876\n",
            "Model saved to /content/drive/My Drive/aicv/bml_code/model1.pth\n"
          ]
        },
        {
          "output_type": "stream",
          "name": "stderr",
          "text": [
            "100%|██████████| 101/101 [00:25<00:00,  3.97it/s]\n"
          ]
        },
        {
          "output_type": "stream",
          "name": "stdout",
          "text": [
            "Epoch 8/1000 - loss: 0.9758 test_loss: 0.9876 \n",
            "test_loss decreased from 0.9876 to 0.9876\n",
            "Model saved to /content/drive/My Drive/aicv/bml_code/model1.pth\n"
          ]
        },
        {
          "output_type": "stream",
          "name": "stderr",
          "text": [
            "100%|██████████| 101/101 [00:25<00:00,  3.96it/s]\n"
          ]
        },
        {
          "output_type": "stream",
          "name": "stdout",
          "text": [
            "Epoch 9/1000 - loss: 0.9754 test_loss: 0.9872 \n",
            "test_loss decreased from 0.9876 to 0.9872\n",
            "Model saved to /content/drive/My Drive/aicv/bml_code/model1.pth\n"
          ]
        },
        {
          "output_type": "stream",
          "name": "stderr",
          "text": [
            "100%|██████████| 101/101 [00:25<00:00,  3.92it/s]\n"
          ]
        },
        {
          "output_type": "stream",
          "name": "stdout",
          "text": [
            "Epoch 10/1000 - loss: 0.9753 test_loss: 0.9871 \n",
            "test_loss decreased from 0.9872 to 0.9871\n",
            "Model saved to /content/drive/My Drive/aicv/bml_code/model1.pth\n"
          ]
        },
        {
          "output_type": "stream",
          "name": "stderr",
          "text": [
            "100%|██████████| 101/101 [00:26<00:00,  3.82it/s]\n"
          ]
        },
        {
          "output_type": "stream",
          "name": "stdout",
          "text": [
            "Epoch 11/1000 - loss: 0.9748 test_loss: 0.9866 \n",
            "test_loss decreased from 0.9871 to 0.9866\n",
            "Model saved to /content/drive/My Drive/aicv/bml_code/model1.pth\n"
          ]
        },
        {
          "output_type": "stream",
          "name": "stderr",
          "text": [
            "100%|██████████| 101/101 [00:25<00:00,  3.99it/s]\n"
          ]
        },
        {
          "output_type": "stream",
          "name": "stdout",
          "text": [
            "Epoch 12/1000 - loss: 0.9747 test_loss: 0.9868 \n",
            "test_loss did not decrease from 0.9866, model did not save!\n"
          ]
        },
        {
          "output_type": "stream",
          "name": "stderr",
          "text": [
            "100%|██████████| 101/101 [00:25<00:00,  4.04it/s]\n"
          ]
        },
        {
          "output_type": "stream",
          "name": "stdout",
          "text": [
            "Epoch 13/1000 - loss: 0.9744 test_loss: 0.9865 \n",
            "test_loss decreased from 0.9866 to 0.9865\n",
            "Model saved to /content/drive/My Drive/aicv/bml_code/model1.pth\n"
          ]
        },
        {
          "output_type": "stream",
          "name": "stderr",
          "text": [
            "100%|██████████| 101/101 [00:25<00:00,  3.99it/s]\n"
          ]
        },
        {
          "output_type": "stream",
          "name": "stdout",
          "text": [
            "Epoch 14/1000 - loss: 0.9742 test_loss: 0.9865 \n",
            "test_loss decreased from 0.9865 to 0.9865\n",
            "Model saved to /content/drive/My Drive/aicv/bml_code/model1.pth\n"
          ]
        },
        {
          "output_type": "stream",
          "name": "stderr",
          "text": [
            "100%|██████████| 101/101 [00:25<00:00,  3.99it/s]\n"
          ]
        },
        {
          "output_type": "stream",
          "name": "stdout",
          "text": [
            "Epoch 15/1000 - loss: 0.9739 test_loss: 0.9861 \n",
            "test_loss decreased from 0.9865 to 0.9861\n",
            "Model saved to /content/drive/My Drive/aicv/bml_code/model1.pth\n"
          ]
        },
        {
          "output_type": "stream",
          "name": "stderr",
          "text": [
            "100%|██████████| 101/101 [00:26<00:00,  3.77it/s]\n"
          ]
        },
        {
          "output_type": "stream",
          "name": "stdout",
          "text": [
            "Epoch 16/1000 - loss: 0.9736 test_loss: 0.9859 \n",
            "test_loss decreased from 0.9861 to 0.9859\n",
            "Model saved to /content/drive/My Drive/aicv/bml_code/model1.pth\n"
          ]
        },
        {
          "output_type": "stream",
          "name": "stderr",
          "text": [
            "100%|██████████| 101/101 [00:25<00:00,  3.97it/s]\n"
          ]
        },
        {
          "output_type": "stream",
          "name": "stdout",
          "text": [
            "Epoch 17/1000 - loss: 0.9736 test_loss: 0.9858 \n",
            "test_loss decreased from 0.9859 to 0.9858\n",
            "Model saved to /content/drive/My Drive/aicv/bml_code/model1.pth\n"
          ]
        },
        {
          "output_type": "stream",
          "name": "stderr",
          "text": [
            "100%|██████████| 101/101 [00:26<00:00,  3.82it/s]\n"
          ]
        },
        {
          "output_type": "stream",
          "name": "stdout",
          "text": [
            "Epoch 18/1000 - loss: 0.9733 test_loss: 0.9856 \n",
            "test_loss decreased from 0.9858 to 0.9856\n",
            "Model saved to /content/drive/My Drive/aicv/bml_code/model1.pth\n"
          ]
        },
        {
          "output_type": "stream",
          "name": "stderr",
          "text": [
            "100%|██████████| 101/101 [00:25<00:00,  3.93it/s]\n"
          ]
        },
        {
          "output_type": "stream",
          "name": "stdout",
          "text": [
            "Epoch 19/1000 - loss: 0.9731 test_loss: 0.9855 \n",
            "test_loss decreased from 0.9856 to 0.9855\n",
            "Model saved to /content/drive/My Drive/aicv/bml_code/model1.pth\n"
          ]
        },
        {
          "output_type": "stream",
          "name": "stderr",
          "text": [
            "100%|██████████| 101/101 [00:25<00:00,  3.97it/s]\n"
          ]
        },
        {
          "output_type": "stream",
          "name": "stdout",
          "text": [
            "Epoch 20/1000 - loss: 0.9728 test_loss: 0.9855 \n",
            "test_loss decreased from 0.9855 to 0.9855\n",
            "Model saved to /content/drive/My Drive/aicv/bml_code/model1.pth\n"
          ]
        },
        {
          "output_type": "stream",
          "name": "stderr",
          "text": [
            "100%|██████████| 101/101 [00:25<00:00,  3.99it/s]\n"
          ]
        },
        {
          "output_type": "stream",
          "name": "stdout",
          "text": [
            "Epoch 21/1000 - loss: 0.9724 test_loss: 0.9852 \n",
            "test_loss decreased from 0.9855 to 0.9852\n",
            "Model saved to /content/drive/My Drive/aicv/bml_code/model1.pth\n"
          ]
        },
        {
          "output_type": "stream",
          "name": "stderr",
          "text": [
            "100%|██████████| 101/101 [00:25<00:00,  3.99it/s]\n"
          ]
        },
        {
          "output_type": "stream",
          "name": "stdout",
          "text": [
            "Epoch 22/1000 - loss: 0.9726 test_loss: 0.9851 \n",
            "test_loss decreased from 0.9852 to 0.9851\n",
            "Model saved to /content/drive/My Drive/aicv/bml_code/model1.pth\n"
          ]
        },
        {
          "output_type": "stream",
          "name": "stderr",
          "text": [
            "100%|██████████| 101/101 [00:25<00:00,  4.01it/s]\n"
          ]
        },
        {
          "output_type": "stream",
          "name": "stdout",
          "text": [
            "Epoch 23/1000 - loss: 0.9721 test_loss: 0.9849 \n",
            "test_loss decreased from 0.9851 to 0.9849\n",
            "Model saved to /content/drive/My Drive/aicv/bml_code/model1.pth\n"
          ]
        },
        {
          "output_type": "stream",
          "name": "stderr",
          "text": [
            "100%|██████████| 101/101 [00:26<00:00,  3.78it/s]\n"
          ]
        },
        {
          "output_type": "stream",
          "name": "stdout",
          "text": [
            "Epoch 24/1000 - loss: 0.9718 test_loss: 0.9846 \n",
            "test_loss decreased from 0.9849 to 0.9846\n",
            "Model saved to /content/drive/My Drive/aicv/bml_code/model1.pth\n"
          ]
        },
        {
          "output_type": "stream",
          "name": "stderr",
          "text": [
            "100%|██████████| 101/101 [00:25<00:00,  4.01it/s]\n"
          ]
        },
        {
          "output_type": "stream",
          "name": "stdout",
          "text": [
            "Epoch 25/1000 - loss: 0.9715 test_loss: 0.9845 \n",
            "test_loss decreased from 0.9846 to 0.9845\n",
            "Model saved to /content/drive/My Drive/aicv/bml_code/model1.pth\n"
          ]
        },
        {
          "output_type": "stream",
          "name": "stderr",
          "text": [
            "100%|██████████| 101/101 [00:25<00:00,  4.00it/s]\n"
          ]
        },
        {
          "output_type": "stream",
          "name": "stdout",
          "text": [
            "Epoch 26/1000 - loss: 0.9714 test_loss: 0.9843 \n",
            "test_loss decreased from 0.9845 to 0.9843\n",
            "Model saved to /content/drive/My Drive/aicv/bml_code/model1.pth\n"
          ]
        },
        {
          "output_type": "stream",
          "name": "stderr",
          "text": [
            "100%|██████████| 101/101 [00:25<00:00,  3.97it/s]\n"
          ]
        },
        {
          "output_type": "stream",
          "name": "stdout",
          "text": [
            "Epoch 27/1000 - loss: 0.9713 test_loss: 0.9841 \n",
            "test_loss decreased from 0.9843 to 0.9841\n",
            "Model saved to /content/drive/My Drive/aicv/bml_code/model1.pth\n"
          ]
        },
        {
          "output_type": "stream",
          "name": "stderr",
          "text": [
            "100%|██████████| 101/101 [00:26<00:00,  3.76it/s]\n"
          ]
        },
        {
          "output_type": "stream",
          "name": "stdout",
          "text": [
            "Epoch 28/1000 - loss: 0.971 test_loss: 0.9841 \n",
            "test_loss decreased from 0.9841 to 0.9841\n",
            "Model saved to /content/drive/My Drive/aicv/bml_code/model1.pth\n"
          ]
        },
        {
          "output_type": "stream",
          "name": "stderr",
          "text": [
            "100%|██████████| 101/101 [00:25<00:00,  3.99it/s]\n"
          ]
        },
        {
          "output_type": "stream",
          "name": "stdout",
          "text": [
            "Epoch 29/1000 - loss: 0.9708 test_loss: 0.9838 \n",
            "test_loss decreased from 0.9841 to 0.9838\n",
            "Model saved to /content/drive/My Drive/aicv/bml_code/model1.pth\n"
          ]
        },
        {
          "output_type": "stream",
          "name": "stderr",
          "text": [
            "100%|██████████| 101/101 [00:25<00:00,  4.00it/s]\n"
          ]
        },
        {
          "output_type": "stream",
          "name": "stdout",
          "text": [
            "Epoch 30/1000 - loss: 0.9705 test_loss: 0.9837 \n",
            "test_loss decreased from 0.9838 to 0.9837\n",
            "Model saved to /content/drive/My Drive/aicv/bml_code/model1.pth\n"
          ]
        },
        {
          "output_type": "stream",
          "name": "stderr",
          "text": [
            "100%|██████████| 101/101 [00:25<00:00,  3.93it/s]\n"
          ]
        },
        {
          "output_type": "stream",
          "name": "stdout",
          "text": [
            "Epoch 31/1000 - loss: 0.9705 test_loss: 0.9836 \n",
            "test_loss decreased from 0.9837 to 0.9836\n",
            "Model saved to /content/drive/My Drive/aicv/bml_code/model1.pth\n"
          ]
        },
        {
          "output_type": "stream",
          "name": "stderr",
          "text": [
            "100%|██████████| 101/101 [00:25<00:00,  4.00it/s]\n"
          ]
        },
        {
          "output_type": "stream",
          "name": "stdout",
          "text": [
            "Epoch 32/1000 - loss: 0.9699 test_loss: 0.9833 \n",
            "test_loss decreased from 0.9836 to 0.9833\n",
            "Model saved to /content/drive/My Drive/aicv/bml_code/model1.pth\n"
          ]
        },
        {
          "output_type": "stream",
          "name": "stderr",
          "text": [
            "100%|██████████| 101/101 [00:25<00:00,  3.98it/s]\n"
          ]
        },
        {
          "output_type": "stream",
          "name": "stdout",
          "text": [
            "Epoch 33/1000 - loss: 0.9699 test_loss: 0.9833 \n",
            "test_loss decreased from 0.9833 to 0.9833\n",
            "Model saved to /content/drive/My Drive/aicv/bml_code/model1.pth\n"
          ]
        },
        {
          "output_type": "stream",
          "name": "stderr",
          "text": [
            "100%|██████████| 101/101 [00:25<00:00,  3.98it/s]\n"
          ]
        },
        {
          "output_type": "stream",
          "name": "stdout",
          "text": [
            "Epoch 34/1000 - loss: 0.9696 test_loss: 0.9825 \n",
            "test_loss decreased from 0.9833 to 0.9825\n",
            "Model saved to /content/drive/My Drive/aicv/bml_code/model1.pth\n"
          ]
        },
        {
          "output_type": "stream",
          "name": "stderr",
          "text": [
            "100%|██████████| 101/101 [00:25<00:00,  4.00it/s]\n"
          ]
        },
        {
          "output_type": "stream",
          "name": "stdout",
          "text": [
            "Epoch 35/1000 - loss: 0.9694 test_loss: 0.9825 \n",
            "test_loss decreased from 0.9825 to 0.9825\n",
            "Model saved to /content/drive/My Drive/aicv/bml_code/model1.pth\n"
          ]
        },
        {
          "output_type": "stream",
          "name": "stderr",
          "text": [
            "100%|██████████| 101/101 [00:25<00:00,  4.00it/s]\n"
          ]
        },
        {
          "output_type": "stream",
          "name": "stdout",
          "text": [
            "Epoch 36/1000 - loss: 0.969 test_loss: 0.9826 \n",
            "test_loss did not decrease from 0.9825, model did not save!\n"
          ]
        },
        {
          "output_type": "stream",
          "name": "stderr",
          "text": [
            "100%|██████████| 101/101 [00:25<00:00,  4.02it/s]\n"
          ]
        },
        {
          "output_type": "stream",
          "name": "stdout",
          "text": [
            "Epoch 37/1000 - loss: 0.9691 test_loss: 0.9824 \n",
            "test_loss decreased from 0.9825 to 0.9824\n",
            "Model saved to /content/drive/My Drive/aicv/bml_code/model1.pth\n"
          ]
        },
        {
          "output_type": "stream",
          "name": "stderr",
          "text": [
            "100%|██████████| 101/101 [00:26<00:00,  3.85it/s]\n"
          ]
        },
        {
          "output_type": "stream",
          "name": "stdout",
          "text": [
            "Epoch 38/1000 - loss: 0.9687 test_loss: 0.9823 \n",
            "test_loss decreased from 0.9824 to 0.9823\n",
            "Model saved to /content/drive/My Drive/aicv/bml_code/model1.pth\n"
          ]
        },
        {
          "output_type": "stream",
          "name": "stderr",
          "text": [
            "100%|██████████| 101/101 [00:25<00:00,  4.00it/s]\n"
          ]
        },
        {
          "output_type": "stream",
          "name": "stdout",
          "text": [
            "Epoch 39/1000 - loss: 0.9686 test_loss: 0.9817 \n",
            "test_loss decreased from 0.9823 to 0.9817\n",
            "Model saved to /content/drive/My Drive/aicv/bml_code/model1.pth\n"
          ]
        },
        {
          "output_type": "stream",
          "name": "stderr",
          "text": [
            "100%|██████████| 101/101 [00:25<00:00,  3.99it/s]\n"
          ]
        },
        {
          "output_type": "stream",
          "name": "stdout",
          "text": [
            "Epoch 40/1000 - loss: 0.9681 test_loss: 0.9815 \n",
            "test_loss decreased from 0.9817 to 0.9815\n",
            "Model saved to /content/drive/My Drive/aicv/bml_code/model1.pth\n"
          ]
        },
        {
          "output_type": "stream",
          "name": "stderr",
          "text": [
            "100%|██████████| 101/101 [00:25<00:00,  3.98it/s]\n"
          ]
        },
        {
          "output_type": "stream",
          "name": "stdout",
          "text": [
            "Epoch 41/1000 - loss: 0.9681 test_loss: 0.9813 \n",
            "test_loss decreased from 0.9815 to 0.9813\n",
            "Model saved to /content/drive/My Drive/aicv/bml_code/model1.pth\n"
          ]
        },
        {
          "output_type": "stream",
          "name": "stderr",
          "text": [
            "100%|██████████| 101/101 [00:26<00:00,  3.88it/s]\n"
          ]
        },
        {
          "output_type": "stream",
          "name": "stdout",
          "text": [
            "Epoch 42/1000 - loss: 0.9677 test_loss: 0.9811 \n",
            "test_loss decreased from 0.9813 to 0.9811\n",
            "Model saved to /content/drive/My Drive/aicv/bml_code/model1.pth\n"
          ]
        },
        {
          "output_type": "stream",
          "name": "stderr",
          "text": [
            "100%|██████████| 101/101 [00:25<00:00,  3.98it/s]\n"
          ]
        },
        {
          "output_type": "stream",
          "name": "stdout",
          "text": [
            "Epoch 43/1000 - loss: 0.9674 test_loss: 0.981 \n",
            "test_loss decreased from 0.9811 to 0.981\n",
            "Model saved to /content/drive/My Drive/aicv/bml_code/model1.pth\n"
          ]
        },
        {
          "output_type": "stream",
          "name": "stderr",
          "text": [
            "100%|██████████| 101/101 [00:25<00:00,  3.98it/s]\n"
          ]
        },
        {
          "output_type": "stream",
          "name": "stdout",
          "text": [
            "Epoch 44/1000 - loss: 0.9676 test_loss: 0.9809 \n",
            "test_loss decreased from 0.981 to 0.9809\n",
            "Model saved to /content/drive/My Drive/aicv/bml_code/model1.pth\n"
          ]
        },
        {
          "output_type": "stream",
          "name": "stderr",
          "text": [
            "100%|██████████| 101/101 [00:25<00:00,  3.99it/s]\n"
          ]
        },
        {
          "output_type": "stream",
          "name": "stdout",
          "text": [
            "Epoch 45/1000 - loss: 0.9671 test_loss: 0.9809 \n",
            "test_loss decreased from 0.9809 to 0.9809\n",
            "Model saved to /content/drive/My Drive/aicv/bml_code/model1.pth\n"
          ]
        },
        {
          "output_type": "stream",
          "name": "stderr",
          "text": [
            "100%|██████████| 101/101 [00:25<00:00,  4.01it/s]\n"
          ]
        },
        {
          "output_type": "stream",
          "name": "stdout",
          "text": [
            "Epoch 46/1000 - loss: 0.967 test_loss: 0.9805 \n",
            "test_loss decreased from 0.9809 to 0.9805\n",
            "Model saved to /content/drive/My Drive/aicv/bml_code/model1.pth\n"
          ]
        },
        {
          "output_type": "stream",
          "name": "stderr",
          "text": [
            "100%|██████████| 101/101 [00:25<00:00,  3.99it/s]\n"
          ]
        },
        {
          "output_type": "stream",
          "name": "stdout",
          "text": [
            "Epoch 47/1000 - loss: 0.9669 test_loss: 0.981 \n",
            "test_loss did not decrease from 0.9805, model did not save!\n"
          ]
        },
        {
          "output_type": "stream",
          "name": "stderr",
          "text": [
            "100%|██████████| 101/101 [00:25<00:00,  4.01it/s]\n"
          ]
        },
        {
          "output_type": "stream",
          "name": "stdout",
          "text": [
            "Epoch 48/1000 - loss: 0.9667 test_loss: 0.981 \n",
            "test_loss did not decrease from 0.9805, model did not save!\n"
          ]
        },
        {
          "output_type": "stream",
          "name": "stderr",
          "text": [
            "100%|██████████| 101/101 [00:25<00:00,  4.02it/s]\n"
          ]
        },
        {
          "output_type": "stream",
          "name": "stdout",
          "text": [
            "Epoch 49/1000 - loss: 0.9664 test_loss: 0.9809 \n",
            "test_loss did not decrease from 0.9805, model did not save!\n"
          ]
        },
        {
          "output_type": "stream",
          "name": "stderr",
          "text": [
            "100%|██████████| 101/101 [00:25<00:00,  4.02it/s]\n"
          ]
        },
        {
          "output_type": "stream",
          "name": "stdout",
          "text": [
            "Epoch 50/1000 - loss: 0.9663 test_loss: 0.9807 \n",
            "test_loss did not decrease from 0.9805, model did not save!\n"
          ]
        },
        {
          "output_type": "stream",
          "name": "stderr",
          "text": [
            "100%|██████████| 101/101 [00:25<00:00,  4.02it/s]\n"
          ]
        },
        {
          "output_type": "stream",
          "name": "stdout",
          "text": [
            "Epoch 51/1000 - loss: 0.9661 test_loss: 0.9804 \n",
            "test_loss decreased from 0.9805 to 0.9804\n",
            "Model saved to /content/drive/My Drive/aicv/bml_code/model1.pth\n"
          ]
        },
        {
          "output_type": "stream",
          "name": "stderr",
          "text": [
            "100%|██████████| 101/101 [00:25<00:00,  3.99it/s]\n"
          ]
        },
        {
          "output_type": "stream",
          "name": "stdout",
          "text": [
            "Epoch 52/1000 - loss: 0.9657 test_loss: 0.9804 \n",
            "test_loss did not decrease from 0.9804, model did not save!\n"
          ]
        },
        {
          "output_type": "stream",
          "name": "stderr",
          "text": [
            "100%|██████████| 101/101 [00:25<00:00,  4.01it/s]\n"
          ]
        },
        {
          "output_type": "stream",
          "name": "stdout",
          "text": [
            "Epoch 53/1000 - loss: 0.9652 test_loss: 0.9797 \n",
            "test_loss decreased from 0.9804 to 0.9797\n",
            "Model saved to /content/drive/My Drive/aicv/bml_code/model1.pth\n"
          ]
        },
        {
          "output_type": "stream",
          "name": "stderr",
          "text": [
            "  1%|          | 1/101 [00:00<01:06,  1.50it/s]\n"
          ]
        },
        {
          "output_type": "error",
          "ename": "KeyboardInterrupt",
          "evalue": "ignored",
          "traceback": [
            "\u001b[0;31m---------------------------------------------------------------------------\u001b[0m",
            "\u001b[0;31mKeyboardInterrupt\u001b[0m                         Traceback (most recent call last)",
            "\u001b[0;32m<ipython-input-17-326e65dacf26>\u001b[0m in \u001b[0;36m<cell line: 37>\u001b[0;34m()\u001b[0m\n\u001b[1;32m     47\u001b[0m   \u001b[0margs\u001b[0m \u001b[0;34m=\u001b[0m \u001b[0mparser\u001b[0m\u001b[0;34m.\u001b[0m\u001b[0mparse_args\u001b[0m\u001b[0;34m(\u001b[0m\u001b[0;34m)\u001b[0m\u001b[0;34m\u001b[0m\u001b[0;34m\u001b[0m\u001b[0m\n\u001b[1;32m     48\u001b[0m \u001b[0;34m\u001b[0m\u001b[0m\n\u001b[0;32m---> 49\u001b[0;31m   \u001b[0mmain_pipeline\u001b[0m\u001b[0;34m(\u001b[0m\u001b[0margs\u001b[0m\u001b[0;34m)\u001b[0m\u001b[0;34m\u001b[0m\u001b[0;34m\u001b[0m\u001b[0m\n\u001b[0m",
            "\u001b[0;32m<ipython-input-17-326e65dacf26>\u001b[0m in \u001b[0;36mmain_pipeline\u001b[0;34m(parser)\u001b[0m\n\u001b[1;32m     26\u001b[0m                             device=device)\n\u001b[1;32m     27\u001b[0m \u001b[0;34m\u001b[0m\u001b[0m\n\u001b[0;32m---> 28\u001b[0;31m         \u001b[0mttp\u001b[0m\u001b[0;34m.\u001b[0m\u001b[0mtrain\u001b[0m\u001b[0;34m(\u001b[0m\u001b[0;34m)\u001b[0m\u001b[0;34m\u001b[0m\u001b[0;34m\u001b[0m\u001b[0m\n\u001b[0m\u001b[1;32m     29\u001b[0m \u001b[0;34m\u001b[0m\u001b[0m\n\u001b[1;32m     30\u001b[0m     \u001b[0;32melif\u001b[0m \u001b[0mparser\u001b[0m\u001b[0;34m.\u001b[0m\u001b[0mmode\u001b[0m \u001b[0;34m==\u001b[0m \u001b[0;34m'inference'\u001b[0m\u001b[0;34m:\u001b[0m\u001b[0;34m\u001b[0m\u001b[0;34m\u001b[0m\u001b[0m\n",
            "\u001b[0;32m<ipython-input-10-31f67ec3434f>\u001b[0m in \u001b[0;36mtrain\u001b[0;34m(self)\u001b[0m\n\u001b[1;32m     47\u001b[0m         \u001b[0;32mfor\u001b[0m \u001b[0mepoch\u001b[0m \u001b[0;32min\u001b[0m \u001b[0mrange\u001b[0m\u001b[0;34m(\u001b[0m\u001b[0mcfg\u001b[0m\u001b[0;34m.\u001b[0m\u001b[0mepoch\u001b[0m\u001b[0;34m)\u001b[0m\u001b[0;34m:\u001b[0m\u001b[0;34m\u001b[0m\u001b[0;34m\u001b[0m\u001b[0m\n\u001b[1;32m     48\u001b[0m             \u001b[0;32mwith\u001b[0m \u001b[0mtqdm\u001b[0m\u001b[0;34m(\u001b[0m\u001b[0mtotal\u001b[0m\u001b[0;34m=\u001b[0m\u001b[0mlen\u001b[0m\u001b[0;34m(\u001b[0m\u001b[0mself\u001b[0m\u001b[0;34m.\u001b[0m\u001b[0mtrain_loader\u001b[0m\u001b[0;34m)\u001b[0m \u001b[0;34m+\u001b[0m \u001b[0mlen\u001b[0m\u001b[0;34m(\u001b[0m\u001b[0mself\u001b[0m\u001b[0;34m.\u001b[0m\u001b[0mtest_loader\u001b[0m\u001b[0;34m)\u001b[0m\u001b[0;34m)\u001b[0m \u001b[0;32mas\u001b[0m \u001b[0mt\u001b[0m\u001b[0;34m:\u001b[0m\u001b[0;34m\u001b[0m\u001b[0;34m\u001b[0m\u001b[0m\n\u001b[0;32m---> 49\u001b[0;31m                 \u001b[0mtrain_loss\u001b[0m \u001b[0;34m=\u001b[0m \u001b[0mself\u001b[0m\u001b[0;34m.\u001b[0m\u001b[0m__loop\u001b[0m\u001b[0;34m(\u001b[0m\u001b[0mself\u001b[0m\u001b[0;34m.\u001b[0m\u001b[0mtrain_loader\u001b[0m\u001b[0;34m,\u001b[0m \u001b[0mself\u001b[0m\u001b[0;34m.\u001b[0m\u001b[0mtransunet\u001b[0m\u001b[0;34m.\u001b[0m\u001b[0mtrain_step\u001b[0m\u001b[0;34m,\u001b[0m \u001b[0mt\u001b[0m\u001b[0;34m)\u001b[0m\u001b[0;34m\u001b[0m\u001b[0;34m\u001b[0m\u001b[0m\n\u001b[0m\u001b[1;32m     50\u001b[0m \u001b[0;34m\u001b[0m\u001b[0m\n\u001b[1;32m     51\u001b[0m                 \u001b[0mtest_loss\u001b[0m \u001b[0;34m=\u001b[0m \u001b[0mself\u001b[0m\u001b[0;34m.\u001b[0m\u001b[0m__loop\u001b[0m\u001b[0;34m(\u001b[0m\u001b[0mself\u001b[0m\u001b[0;34m.\u001b[0m\u001b[0mtest_loader\u001b[0m\u001b[0;34m,\u001b[0m \u001b[0mself\u001b[0m\u001b[0;34m.\u001b[0m\u001b[0mtransunet\u001b[0m\u001b[0;34m.\u001b[0m\u001b[0mtest_step\u001b[0m\u001b[0;34m,\u001b[0m \u001b[0mt\u001b[0m\u001b[0;34m)\u001b[0m\u001b[0;34m\u001b[0m\u001b[0;34m\u001b[0m\u001b[0m\n",
            "\u001b[0;32m<ipython-input-10-31f67ec3434f>\u001b[0m in \u001b[0;36m__loop\u001b[0;34m(self, loader, step_func, t)\u001b[0m\n\u001b[1;32m     33\u001b[0m             \u001b[0mmask\u001b[0m \u001b[0;34m=\u001b[0m \u001b[0mmask\u001b[0m\u001b[0;34m.\u001b[0m\u001b[0mto\u001b[0m\u001b[0;34m(\u001b[0m\u001b[0mself\u001b[0m\u001b[0;34m.\u001b[0m\u001b[0mdevice\u001b[0m\u001b[0;34m)\u001b[0m\u001b[0;34m\u001b[0m\u001b[0;34m\u001b[0m\u001b[0m\n\u001b[1;32m     34\u001b[0m \u001b[0;34m\u001b[0m\u001b[0m\n\u001b[0;32m---> 35\u001b[0;31m             \u001b[0mloss\u001b[0m\u001b[0;34m,\u001b[0m \u001b[0mcls_pred\u001b[0m \u001b[0;34m=\u001b[0m \u001b[0mstep_func\u001b[0m\u001b[0;34m(\u001b[0m\u001b[0mimg\u001b[0m\u001b[0;34m=\u001b[0m\u001b[0mimg\u001b[0m\u001b[0;34m,\u001b[0m \u001b[0mmask\u001b[0m\u001b[0;34m=\u001b[0m\u001b[0mmask\u001b[0m\u001b[0;34m)\u001b[0m\u001b[0;34m\u001b[0m\u001b[0;34m\u001b[0m\u001b[0m\n\u001b[0m\u001b[1;32m     36\u001b[0m \u001b[0;34m\u001b[0m\u001b[0m\n\u001b[1;32m     37\u001b[0m             \u001b[0mtotal_loss\u001b[0m \u001b[0;34m+=\u001b[0m \u001b[0mloss\u001b[0m\u001b[0;34m\u001b[0m\u001b[0;34m\u001b[0m\u001b[0m\n",
            "\u001b[0;32m<ipython-input-9-885e5216b01d>\u001b[0m in \u001b[0;36mtrain_step\u001b[0;34m(self, **params)\u001b[0m\n\u001b[1;32m     37\u001b[0m         \u001b[0mself\u001b[0m\u001b[0;34m.\u001b[0m\u001b[0moptimizer\u001b[0m\u001b[0;34m.\u001b[0m\u001b[0mstep\u001b[0m\u001b[0;34m(\u001b[0m\u001b[0;34m)\u001b[0m\u001b[0;34m\u001b[0m\u001b[0;34m\u001b[0m\u001b[0m\n\u001b[1;32m     38\u001b[0m \u001b[0;34m\u001b[0m\u001b[0m\n\u001b[0;32m---> 39\u001b[0;31m         \u001b[0;32mreturn\u001b[0m \u001b[0mloss\u001b[0m\u001b[0;34m.\u001b[0m\u001b[0mitem\u001b[0m\u001b[0;34m(\u001b[0m\u001b[0;34m)\u001b[0m\u001b[0;34m,\u001b[0m \u001b[0mpred_mask\u001b[0m\u001b[0;34m\u001b[0m\u001b[0;34m\u001b[0m\u001b[0m\n\u001b[0m\u001b[1;32m     40\u001b[0m \u001b[0;34m\u001b[0m\u001b[0m\n\u001b[1;32m     41\u001b[0m     \u001b[0;32mdef\u001b[0m \u001b[0mtest_step\u001b[0m\u001b[0;34m(\u001b[0m\u001b[0mself\u001b[0m\u001b[0;34m,\u001b[0m \u001b[0;34m**\u001b[0m\u001b[0mparams\u001b[0m\u001b[0;34m)\u001b[0m\u001b[0;34m:\u001b[0m\u001b[0;34m\u001b[0m\u001b[0;34m\u001b[0m\u001b[0m\n",
            "\u001b[0;31mKeyboardInterrupt\u001b[0m: "
          ]
        }
      ]
    }
  ]
}